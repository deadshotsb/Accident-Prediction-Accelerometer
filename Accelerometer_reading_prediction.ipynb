{
 "cells": [
  {
   "cell_type": "markdown",
   "metadata": {},
   "source": [
    "# Accelerometer Data Prediction #\n",
    "\n",
    "The prediction is done by Binary classification model using logistic regression which turns out to be efficient enough to predict \n",
    "if the reading is of phone falling in the ground or when a car experiences a crash.\n",
    "\n",
    "The two dataset provided were \"PHONE FALL DATA FILE\" and \"ACCIDENTAL DATA FILE\"\n",
    "An additional column named 'label' is introduced in dataset where 1 signifies \" a car accident\" and  0 signifies \" phone fall \".\n",
    "\n",
    "The two dataset are then combined together and randomly arranged to get an uniform dataset which enhances the training and testing of data.\n",
    "\n",
    "Then out of the entire set 2400 dataset are taken as training set and others are taken as testing set, which are data_train.csv and data_test.csv respectively.\n",
    "\n",
    "The model achieves a train accuracy: 98.25 % and test accuracy: 97.45454545454545 %  which is a perfect fit to the model as it behaves efficiently both on training and test data set."
   ]
  },
  {
   "cell_type": "markdown",
   "metadata": {},
   "source": [
    "##  Packages ##\n",
    "\n",
    "- numpy is the fundamental package for scientific computing with Python.\n",
    "- pandas is a common package to interact with a dataset that is stored on a csv file.\n",
    "- matplotlib is a famous library to plot graphs in Python.\n"
   ]
  },
  {
   "cell_type": "code",
   "execution_count": 1,
   "metadata": {},
   "outputs": [],
   "source": [
    "import matplotlib.pyplot as plt\n",
    "import pandas as pd\n",
    "import numpy as np\n",
    "%matplotlib inline"
   ]
  },
  {
   "cell_type": "code",
   "execution_count": 2,
   "metadata": {},
   "outputs": [
    {
     "name": "stdout",
     "output_type": "stream",
     "text": [
      "      ACTUAL TIME (ms)  TIME INTERVAL (ms)   Accel X   Accel Y  label\n",
      "0               6844.0                   2  0.367523  4.859955      0\n",
      "1               2713.0                   5 -0.501419  4.796661      0\n",
      "2               4426.0                   3  0.112259  5.099625      0\n",
      "3               2663.0                   6 -0.342300  5.045715      0\n",
      "4              11302.0                   5  0.446625  4.352188      0\n",
      "5              10513.0                   8  0.731201  4.761597      0\n",
      "6              10880.0                   8  0.293854  4.296295      0\n",
      "7               1757.0                   4 -1.313553  5.321991      0\n",
      "8               6528.0                   4  0.327805  4.879898      0\n",
      "9              10606.0                   3  0.386780  4.558838      0\n",
      "10              6291.0                   5  0.201263  4.811081      0\n",
      "11              3362.0                   6 -0.435440  4.775955      0\n",
      "12              6242.0                   6  0.299576  4.948379      0\n",
      "13             11002.0                   8  0.444336  4.479019      0\n",
      "14                 NaN                 270 -0.200000 -0.200000      1\n",
      "15              7696.0                   4  0.447723  2.991409      0\n",
      "16               450.0                   4 -3.633881  2.442886      0\n",
      "17              5525.0                   5  0.149979  4.979080      0\n",
      "18              6777.0                   6  0.511703  5.139038      0\n",
      "19              3817.0                   3 -0.400024  4.811585      0\n",
      "20              8075.0                   8  0.332184  3.116776      0\n",
      "21              2405.0                   6 -0.992844  4.894714      0\n",
      "22             10934.0                   3  0.309525  4.257385      0\n",
      "23              1349.0                   0 -0.400711  5.054932      0\n",
      "24                 NaN                 244 -0.200000 -0.200000      1\n",
      "25             10951.0                   8  0.404861  4.336655      0\n",
      "26             11376.0                   4  0.238190  4.288651      0\n",
      "27             12118.0                   4  0.555573  4.495834      0\n",
      "28              3275.0                   4 -0.315796  4.876511      0\n",
      "29              9606.0                   7  0.741867  4.660309      0\n",
      "...                ...                 ...       ...       ...    ...\n",
      "2370           11157.0                   7  0.496811  4.424011      0\n",
      "2371            7852.0                   3  0.884949  3.525955      0\n",
      "2372               NaN                 192 -0.200000 -0.200000      1\n",
      "2373            7333.0                   4 -0.120941  4.560486      0\n",
      "2374           12067.0                   4  0.650742  4.467102      0\n",
      "2375           12294.0                   4  0.429199  4.410080      0\n",
      "2376            8274.0                   2  0.426147  4.323898      0\n",
      "2377           12396.0                   9  0.373032  4.405960      0\n",
      "2378               NaN                 216 -0.200000 -0.200000      1\n",
      "2379            8551.0                   0  0.651520  4.442779      0\n",
      "2380               NaN                 104 -1.000000  3.000000      1\n",
      "2381            7680.0                   4  0.404861  2.918320      0\n",
      "2382            7824.0                   0  0.775681  3.336594      0\n",
      "2383            9302.0                   4  0.405365  4.483124      0\n",
      "2384            9122.0                   2  0.342163  4.364014      0\n",
      "2385            6270.0                   4  0.243942  4.854965      0\n",
      "2386               NaN                 280 -0.200000 -0.200000      1\n",
      "2387            8690.0                  17  0.526474  4.497528      0\n",
      "2388            7770.0                   4  0.607376  3.094284      0\n",
      "2389            8493.0                   7 -0.671906  4.332367      0\n",
      "2390            1199.0                   0 -0.959763  4.453247      0\n",
      "2391           12243.0                   4  0.474930  4.394257      0\n",
      "2392               NaN                 188 -0.200000  0.200000      1\n",
      "2393            6986.0                   5  0.319489  4.725677      0\n",
      "2394            8859.0                  11  0.470947  4.388535      0\n",
      "2395            8774.0                   0  0.225204  4.170120      0\n",
      "2396            1879.0                   0 -1.450836  5.079300      0\n",
      "2397            4520.0                   7  0.132141  5.220215      0\n",
      "2398            5513.0                   8  0.302658  5.097458      0\n",
      "2399           10798.0                   3  0.477509  4.462784      0\n",
      "\n",
      "[2400 rows x 5 columns]\n"
     ]
    }
   ],
   "source": [
    "pf=pd.read_csv('data_train.csv')\n",
    "print(pf)"
   ]
  },
  {
   "cell_type": "code",
   "execution_count": 3,
   "metadata": {},
   "outputs": [],
   "source": [
    "input_parameter=[\"Accel X\",\"Accel Y\"]\n",
    "X_train=np.array(pf[input_parameter])\n",
    "X_train=X_train.T\n",
    "output_parameter=['label']\n",
    "Y_train=np.array(pf[output_parameter])\n",
    "Y_train=Y_train.T"
   ]
  },
  {
   "cell_type": "code",
   "execution_count": 4,
   "metadata": {},
   "outputs": [
    {
     "data": {
      "text/plain": [
       "(array([[ 0.3675232 , -0.50141907,  0.11225891, ...,  0.13214111,\n",
       "          0.30265808,  0.47750854],\n",
       "        [ 4.859955  ,  4.7966614 ,  5.0996246 , ...,  5.220215  ,\n",
       "          5.097458  ,  4.462784  ]]),\n",
       " array([[0, 0, 0, ..., 0, 0, 0]], dtype=int64))"
      ]
     },
     "execution_count": 4,
     "metadata": {},
     "output_type": "execute_result"
    }
   ],
   "source": [
    "X_train,Y_train"
   ]
  },
  {
   "cell_type": "code",
   "execution_count": 5,
   "metadata": {},
   "outputs": [
    {
     "data": {
      "image/png": "[encoded data removed]",
      "text/plain": [
       "<Figure size 432x288 with 1 Axes>"
      ]
     },
     "metadata": {
      "needs_background": "light"
     },
     "output_type": "display_data"
    }
   ],
   "source": [
    "plt.plot(X_train.T,Y_train.T,'ro')\n",
    "plt.xlabel(\"input parameters\")\n",
    "plt.ylabel(\"output parameters\")\n",
    "plt.show()"
   ]
  },
  {
   "cell_type": "markdown",
   "metadata": {},
   "source": [
    "## General Architecture of the learning algorithm ##\n",
    "\n",
    "**Mathematical expression of the algorithm**:\n",
    "\n",
    "For one example $x^{(i)}$:\n",
    "$$z^{(i)} = w^T x^{(i)} + b $$\n",
    "$$\\hat{y}^{(i)} = h^{(i)} = sigmoid(z^{(i)})$$ \n",
    "$$ \\mathcal{L}(h^{(i)}, y^{(i)}) =  - y^{(i)}  \\log(h^{(i)}) - (1-y^{(i)} )  \\log(1-h^{(i)})$$\n",
    "\n",
    "The cost is then computed by summing over all training examples:\n",
    "$$ J = \\frac{1}{m} \\sum_{i=1}^m \\mathcal{L}(h^{(i)}, y^{(i)})$$"
   ]
  },
  {
   "cell_type": "markdown",
   "metadata": {},
   "source": [
    "### Initializing parameters\n",
    "\n",
    "A random initialisation of w and b parameter enhances the model to train quickly and efficiently"
   ]
  },
  {
   "cell_type": "code",
   "execution_count": 6,
   "metadata": {},
   "outputs": [],
   "source": [
    "#Initialization of parameters\n",
    "\n",
    "def initialize_parameter(X):\n",
    "    w=np.random.randn(X.shape[0])*0.01\n",
    "    b=np.random.randn()*0.01\n",
    "    return w,b"
   ]
  },
  {
   "cell_type": "markdown",
   "metadata": {},
   "source": [
    "### Sigmoid function\n",
    "\n",
    "As shown earlier,there is a need to compute $sigmoid( w^T x + b) = \\frac{1}{1 + e^{-(w^T x + b)}}$ to make predictions, which restricts the value to be between 0 and 1"
   ]
  },
  {
   "cell_type": "code",
   "execution_count": 7,
   "metadata": {},
   "outputs": [],
   "source": [
    "def sigmoid(z):\n",
    "    s = 1/(1+np.exp(-z))\n",
    "    return s"
   ]
  },
  {
   "cell_type": "markdown",
   "metadata": {},
   "source": [
    "### Forward and Backward propagation\n",
    "\n",
    "Forward Propagation:\n",
    "-  get X\n",
    "-  compute $A = \\sigma(w^T X + b) = (a^{(1)}, a^{(2)}, ..., a^{(m-1)}, a^{(m)})$\n",
    "-  calculate the cost function: $J = -\\frac{1}{m}\\sum_{i=1}^{m}y^{(i)}\\log(a^{(i)})+(1-y^{(i)})\\log(1-a^{(i)})$\n",
    "\n",
    "Here are the two formulas you will be using: \n",
    "\n",
    "$$ \\frac{\\partial J}{\\partial w} = \\frac{1}{m}X(A-Y)^T\\tag{7}$$\n",
    "$$ \\frac{\\partial J}{\\partial b} = \\frac{1}{m} \\sum_{i=1}^m (a^{(i)}-y^{(i)})\\tag{8}$$"
   ]
  },
  {
   "cell_type": "code",
   "execution_count": 8,
   "metadata": {},
   "outputs": [],
   "source": [
    "# Cost function\n",
    "\n",
    "def propagate(w, b, X, Y):\n",
    "    \n",
    "    m=X.shape[1]\n",
    "    h=sigmoid(np.dot(w.T,X)+b)\n",
    "    cost=np.sum(-Y*np.log(h)-(1-Y)*np.log(1-h))/m\n",
    "    \n",
    "    dw = np.dot(X,(h-Y).T)/m\n",
    "    db = np.sum(h-Y)/m\n",
    "    \n",
    "    grads = {\"dw\": dw,\n",
    "             \"db\": db}\n",
    "    \n",
    "    return grads,cost"
   ]
  },
  {
   "cell_type": "code",
   "execution_count": 9,
   "metadata": {},
   "outputs": [],
   "source": [
    "def optimize(w, b, X, Y, num_iterations, learning_rate):\n",
    "    costs = []\n",
    "    \n",
    "    for i in range(num_iterations):\n",
    "        grads, cost = propagate(w,b,X,Y)\n",
    "        dw = grads[\"dw\"]\n",
    "        db = grads[\"db\"]\n",
    "        w = w-learning_rate*dw\n",
    "        b = b-learning_rate*db\n",
    "        costs.append(cost)\n",
    "    params = {\"w\": w,\n",
    "              \"b\": b}\n",
    "    \n",
    "    grads = {\"dw\": dw,\n",
    "             \"db\": db}\n",
    "    \n",
    "    return params, grads, costs"
   ]
  },
  {
   "cell_type": "code",
   "execution_count": 10,
   "metadata": {},
   "outputs": [],
   "source": [
    "def predict(w, b, X):\n",
    "    m = X.shape[1]\n",
    "    Y_prediction = np.zeros((1,m))\n",
    "    h = sigmoid(np.dot(w.T,X)+b)\n",
    "    for i in range(h.shape[1]):\n",
    "        if h[0,i]>=0.5:\n",
    "            Y_prediction[0,i]=1\n",
    "        else:\n",
    "            Y_prediction[0,i]=0\n",
    "    return Y_prediction"
   ]
  },
  {
   "cell_type": "code",
   "execution_count": 11,
   "metadata": {},
   "outputs": [],
   "source": [
    "def model(X_train, Y_train, X_test, Y_test, num_iterations = 2000, learning_rate = 0.5):\n",
    "    w, b = initialize_parameter(X_train)\n",
    "    parameters, grads, costs = optimize(w,b,X_train,Y_train,num_iterations, learning_rate)\n",
    "    w = parameters[\"w\"]\n",
    "    b = parameters[\"b\"]\n",
    "    Y_prediction_test = predict(w, b, X_test)\n",
    "    Y_prediction_train = predict(w, b, X_train)\n",
    "    print(\"train accuracy: {} %\".format(100 - np.mean(np.abs(Y_prediction_train - Y_train)) * 100))\n",
    "    print(\"test accuracy: {} %\".format(100 - np.mean(np.abs(Y_prediction_test - Y_test)) * 100))\n",
    "    d = {\"costs\": costs,\n",
    "         \"Y_prediction_test\": Y_prediction_test, \n",
    "         \"Y_prediction_train\" : Y_prediction_train, \n",
    "         \"w\" : w,\n",
    "         \"b\" : b,\n",
    "         \"learning_rate\" : learning_rate,\n",
    "         \"num_iterations\": num_iterations}\n",
    "    return d"
   ]
  },
  {
   "cell_type": "markdown",
   "metadata": {},
   "source": [
    "### Testing of model\n",
    "\n",
    "The model trained against the data_train.csv is tested against data_test.csv"
   ]
  },
  {
   "cell_type": "code",
   "execution_count": 12,
   "metadata": {},
   "outputs": [
    {
     "name": "stdout",
     "output_type": "stream",
     "text": [
      "     ACTUAL TIME (ms)  TIME INTERVAL (ms)   Accel X   Accel Y  label\n",
      "0              8458.0                   8  1.161255  5.022736      0\n",
      "1              9946.0                   4  0.753708  4.671921      0\n",
      "2             12229.0                   4  0.499664  4.437469      0\n",
      "3              3587.0                   3 -0.400024  4.869095      0\n",
      "4              5134.0                   3 -0.097015  4.938004      0\n",
      "5              3864.0                   4 -0.369064  4.738236      0\n",
      "6              2665.0                   2 -0.355011  5.013504      0\n",
      "7              7317.0                   4 -0.269333  4.544189      0\n",
      "8                 NaN                  98 -2.600000 -0.200000      1\n",
      "9              7763.0                   4  0.566406  3.075760      0\n",
      "10             3759.0                   4 -0.306656  4.908905      0\n",
      "11             3763.0                   4 -0.312210  4.905243      0\n",
      "12             7383.0                   3  0.548096  4.688080      0\n",
      "13             2126.0                   3 -1.211655  5.118027      0\n",
      "14             3666.0                   8 -0.356934  4.826233      0\n",
      "15              583.0                   3 -3.610657  3.666687      0\n",
      "16              530.0                   0 -3.066299  3.570236      0\n",
      "17            12016.0                   3  0.448059  4.394379      0\n",
      "18             6392.0                   5  0.239639  4.819061      0\n",
      "19            11333.0                   7  0.443115  4.366547      0\n",
      "20             7285.0                   1 -0.205368  4.695465      0\n",
      "21              274.0                   4 -2.934433  3.069687      0\n",
      "22             5669.0                   8  0.183868  4.847778      0\n",
      "23             7613.0                   2  0.325943  3.422699      0\n",
      "24              625.0                   1 -2.596405  4.521713      0\n",
      "25             9978.0                   3  0.644241  4.610413      0\n",
      "26            10130.0                   7  0.614410  4.696945      0\n",
      "27             3774.0                   4 -0.347733  4.873367      0\n",
      "28             5238.0                   3 -0.155823  4.747223      0\n",
      "29             8024.0                   4  0.610733  3.212555      0\n",
      "..                ...                 ...       ...       ...    ...\n",
      "245           10361.0                   4  0.540390  4.661041      0\n",
      "246            8704.0                   1  0.135605  4.332428      0\n",
      "247           10575.0                   3  0.567764  4.713013      0\n",
      "248            5032.0                   4  0.405472  5.111801      0\n",
      "249            3510.0                   3 -0.349747  4.840607      0\n",
      "250            7911.0                   4  0.737610  3.267609      0\n",
      "251            2633.0                   7 -0.536728  4.942764      0\n",
      "252           10079.0                   8  0.602631  4.617935      0\n",
      "253            1704.0                   3 -2.274078  5.317306      0\n",
      "254            8466.0                   5  0.870621  4.817596      0\n",
      "255            3202.0                   5 -0.481934  4.783142      0\n",
      "256           11723.0                   3  0.568298  4.448624      0\n",
      "257            6516.0                   3  0.253616  4.877197      0\n",
      "258            9280.0                   5  0.469620  4.435638      0\n",
      "259           11810.0                   4  0.466873  4.416824      0\n",
      "260            2106.0                   4 -1.118958  5.266647      0\n",
      "261            4818.0                   0  0.401825  5.026504      0\n",
      "262               NaN                 276 -0.200000 -0.200000      1\n",
      "263           12196.0                   4  0.485992  4.444885      0\n",
      "264             746.0                   3 -3.622025  5.645050      0\n",
      "265            1199.0                  27 -0.943146  4.456986      0\n",
      "266            7197.0                   4  0.278931  4.653854      0\n",
      "267           11352.0                   4  0.397156  4.363678      0\n",
      "268            3798.0                   4 -0.410370  4.764282      0\n",
      "269            7735.0                   4  0.456467  3.013184      0\n",
      "270            9826.0                   5  0.642868  4.616577      0\n",
      "271           12368.0                   4  0.458923  4.402466      0\n",
      "272            3392.0                   4 -0.455765  4.831680      0\n",
      "273            8110.0                   7  0.582748  3.597488      0\n",
      "274            9353.0                   4  0.335388  4.411697      0\n",
      "\n",
      "[275 rows x 5 columns]\n"
     ]
    }
   ],
   "source": [
    "pf=pd.read_csv('data_test.csv')\n",
    "print(pf)"
   ]
  },
  {
   "cell_type": "code",
   "execution_count": 13,
   "metadata": {},
   "outputs": [],
   "source": [
    "X_test=np.array(pf[input_parameter])\n",
    "X_test=X_test.T\n",
    "Y_test=np.array(pf[output_parameter])\n",
    "Y_test=Y_test.T"
   ]
  },
  {
   "cell_type": "code",
   "execution_count": 14,
   "metadata": {},
   "outputs": [
    {
     "name": "stdout",
     "output_type": "stream",
     "text": [
      "train accuracy: 98.25 %\n",
      "test accuracy: 97.45454545454545 %\n"
     ]
    }
   ],
   "source": [
    "d = model(X_train,Y_train,X_test,Y_test, num_iterations = 2000, learning_rate = 0.005)"
   ]
  },
  {
   "cell_type": "code",
   "execution_count": 15,
   "metadata": {},
   "outputs": [
    {
     "data": {
      "image/png": "[encoded data removed]",
      "text/plain": [
       "<Figure size 432x288 with 1 Axes>"
      ]
     },
     "metadata": {
      "needs_background": "light"
     },
     "output_type": "display_data"
    }
   ],
   "source": [
    "costs = np.squeeze(d['costs'])\n",
    "plt.plot(costs)\n",
    "plt.ylabel('cost')\n",
    "plt.xlabel('iterations (per hundreds)')\n",
    "plt.title(\"Learning rate =\" + str(d[\"learning_rate\"]))\n",
    "plt.show()"
   ]
  },
  {
   "cell_type": "code",
   "execution_count": 16,
   "metadata": {},
   "outputs": [],
   "source": [
    "X_train=np.concatenate((X_train.T,X_test.T)).T\n",
    "Y_train=np.concatenate((Y_train.T,Y_test.T)).T\n",
    "parameters, grads, costs = optimize(d[\"w\"],d[\"b\"],X_train,Y_train,num_iterations=2000, learning_rate=0.005)\n",
    "d[\"w\"] = parameters[\"w\"]\n",
    "d[\"b\"] = parameters[\"b\"]"
   ]
  },
  {
   "cell_type": "markdown",
   "metadata": {},
   "source": [
    "### Testing of new values and training the ones not present\n",
    "\n",
    "The code segment tests newly introduced values and also trains any data newly encountered."
   ]
  },
  {
   "cell_type": "code",
   "execution_count": 23,
   "metadata": {},
   "outputs": [
    {
     "name": "stdout",
     "output_type": "stream",
     "text": [
      "Do you want to test against a set of data?(Y/N):N\n"
     ]
    }
   ],
   "source": [
    "ch=input(\"Do you want to test against a set of data?(Y/N):\")\n",
    "while(ch=='Y'):\n",
    "    x_acc=float(input(\"Enter the x-acceleration:\"))\n",
    "    y_acc=float(input(\"Enter the y-acceleration:\"))\n",
    "    x_label=np.zeros((1,2))\n",
    "    x_label[0][0]=x_acc\n",
    "    x_label[0][1]=y_acc\n",
    "    y_label=np.zeros((1,1))\n",
    "    y_label=sigmoid(np.dot(d[\"w\"].T,x_label.T)+d[\"b\"])\n",
    "    if y_label[0]>0.5:\n",
    "        print(\"Accident\")\n",
    "        y_label[0]=1\n",
    "    else:\n",
    "        print(\"Phone Fall\")\n",
    "        y_label[0]=0\n",
    "    pred=input(\"Prediction Correct?(Y/N)\")\n",
    "    if pred=='N':\n",
    "        y_label=1-y_label\n",
    "    flag=True\n",
    "    for x,y in X_train.T:\n",
    "        if x_acc==x and y_acc==y:\n",
    "            flag=False\n",
    "            break\n",
    "    if flag==True:\n",
    "        X_train=np.concatenate((X_train.T,x_label)).T\n",
    "        Y_train=np.concatenate((Y_train,y_label[0]),axis=1)\n",
    "        parameters, grads, costs = optimize(d[\"w\"],d[\"b\"],X_train,Y_train,num_iterations=2000, learning_rate=0.005)\n",
    "        d[\"w\"] = parameters[\"w\"]\n",
    "        d[\"b\"] = parameters[\"b\"]\n",
    "    ch=input(\"Do you want to test against a set of data?(Y/N):\")"
   ]
  }
 ],
 "metadata": {
  "kernelspec": {
   "display_name": "Python 3",
   "language": "python",
   "name": "python3"
  },
  "language_info": {
   "codemirror_mode": {
    "name": "ipython",
    "version": 3
   },
   "file_extension": ".py",
   "mimetype": "text/x-python",
   "name": "python",
   "nbconvert_exporter": "python",
   "pygments_lexer": "ipython3",
   "version": "3.6.8"
  }
 },
 "nbformat": 4,
 "nbformat_minor": 2
}
